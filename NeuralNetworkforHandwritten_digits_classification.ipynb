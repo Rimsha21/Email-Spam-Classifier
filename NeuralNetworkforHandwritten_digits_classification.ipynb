{
  "nbformat": 4,
  "nbformat_minor": 0,
  "metadata": {
    "colab": {
      "name": "NeuralNetworkforHandwritten digits classification.ipynb",
      "provenance": [],
      "authorship_tag": "ABX9TyOBmGjMyMQI5fcpPfJD3Lfb",
      "include_colab_link": true
    },
    "kernelspec": {
      "name": "python3",
      "display_name": "Python 3"
    }
  },
  "cells": [
    {
      "cell_type": "markdown",
      "metadata": {
        "id": "view-in-github",
        "colab_type": "text"
      },
      "source": [
        "<a href=\"https://colab.research.google.com/github/Rimsha21/Email-Spam-Classifier/blob/main/NeuralNetworkforHandwritten_digits_classification.ipynb\" target=\"_parent\"><img src=\"https://colab.research.google.com/assets/colab-badge.svg\" alt=\"Open In Colab\"/></a>"
      ]
    },
    {
      "cell_type": "code",
      "metadata": {
        "id": "plFYpQP7-jLJ"
      },
      "source": [
        "import tensorflow as tf\n",
        "from tensorflow import keras\n",
        "import matplotlib.pyplot as plt\n",
        "import numpy as np"
      ],
      "execution_count": null,
      "outputs": []
    },
    {
      "cell_type": "code",
      "metadata": {
        "colab": {
          "base_uri": "https://localhost:8080/"
        },
        "id": "EcB7i2qP-wve",
        "outputId": "8892a48f-d6b3-447d-dbd8-4262d6856533"
      },
      "source": [
        "(X_train,y_train),(X_test, y_test)= keras.datasets.mnist.load_data()"
      ],
      "execution_count": null,
      "outputs": [
        {
          "output_type": "stream",
          "text": [
            "Downloading data from https://storage.googleapis.com/tensorflow/tf-keras-datasets/mnist.npz\n",
            "11493376/11490434 [==============================] - 0s 0us/step\n"
          ],
          "name": "stdout"
        }
      ]
    },
    {
      "cell_type": "code",
      "metadata": {
        "colab": {
          "base_uri": "https://localhost:8080/"
        },
        "id": "f3UnEmce_BqS",
        "outputId": "53fbd901-2105-4e16-cfaf-c338055c4be6"
      },
      "source": [
        "X_train.shape"
      ],
      "execution_count": null,
      "outputs": [
        {
          "output_type": "execute_result",
          "data": {
            "text/plain": [
              "(60000, 28, 28)"
            ]
          },
          "metadata": {
            "tags": []
          },
          "execution_count": 3
        }
      ]
    },
    {
      "cell_type": "code",
      "metadata": {
        "colab": {
          "base_uri": "https://localhost:8080/",
          "height": 292
        },
        "id": "NLODm9aF_EpS",
        "outputId": "87a28a77-dda5-43bb-8c6c-270f8eb988ab"
      },
      "source": [
        "plt.matshow(X_train[0])"
      ],
      "execution_count": null,
      "outputs": [
        {
          "output_type": "execute_result",
          "data": {
            "text/plain": [
              "<matplotlib.image.AxesImage at 0x7f2a93e320f0>"
            ]
          },
          "metadata": {
            "tags": []
          },
          "execution_count": 4
        },
        {
          "output_type": "display_data",
          "data": {
            "image/png": "[encoded data removed]",
            "text/plain": [
              "<Figure size 288x288 with 1 Axes>"
            ]
          },
          "metadata": {
            "tags": [],
            "needs_background": "light"
          }
        }
      ]
    },
    {
      "cell_type": "code",
      "metadata": {
        "id": "IpgnR4mT_Izs"
      },
      "source": [
        "X_train_flattened=X_train.reshape(len(X_train),28*28)"
      ],
      "execution_count": null,
      "outputs": []
    },
    {
      "cell_type": "code",
      "metadata": {
        "id": "Z_QA1ytI_r2M"
      },
      "source": [
        "X_test_flattened= X_test.reshape(len(X_test),28*28)"
      ],
      "execution_count": null,
      "outputs": []
    },
    {
      "cell_type": "code",
      "metadata": {
        "colab": {
          "base_uri": "https://localhost:8080/"
        },
        "id": "DXkhvSEL_0hg",
        "outputId": "c0c4850f-7d1e-4731-ff0d-15905c2ca23f"
      },
      "source": [
        "model=keras.Sequential([\n",
        "                  keras.layers.Dense(10,input_shape=(784, ),activation='sigmoid')\n",
        "\n",
        "])\n",
        "model.compile(\n",
        "    optimizer='adam',\n",
        "    loss='sparse_categorical_crossentropy',\n",
        "    metrics=['accuracy']\n",
        ")\n",
        "\n",
        "model.fit(X_train_flattened,y_train,epochs=5)"
      ],
      "execution_count": null,
      "outputs": [
        {
          "output_type": "stream",
          "text": [
            "Epoch 1/5\n",
            "1875/1875 [==============================] - 2s 1ms/step - loss: 2.0285 - accuracy: 0.4295\n",
            "Epoch 2/5\n",
            "1875/1875 [==============================] - 2s 1ms/step - loss: 1.5729 - accuracy: 0.4669\n",
            "Epoch 3/5\n",
            "1875/1875 [==============================] - 2s 1ms/step - loss: 1.4389 - accuracy: 0.5283\n",
            "Epoch 4/5\n",
            "1875/1875 [==============================] - 2s 1ms/step - loss: 1.3635 - accuracy: 0.5567\n",
            "Epoch 5/5\n",
            "1875/1875 [==============================] - 2s 1ms/step - loss: 1.3256 - accuracy: 0.5732\n"
          ],
          "name": "stdout"
        },
        {
          "output_type": "execute_result",
          "data": {
            "text/plain": [
              "<tensorflow.python.keras.callbacks.History at 0x7f2a8cf286a0>"
            ]
          },
          "metadata": {
            "tags": []
          },
          "execution_count": 7
        }
      ]
    },
    {
      "cell_type": "code",
      "metadata": {
        "colab": {
          "base_uri": "https://localhost:8080/"
        },
        "id": "uPgup6HEBxa7",
        "outputId": "8f361fb4-4901-4fab-e4a7-33418de94204"
      },
      "source": [
        "model.evaluate(X_test_flattened,y_test)"
      ],
      "execution_count": null,
      "outputs": [
        {
          "output_type": "stream",
          "text": [
            "313/313 [==============================] - 0s 804us/step - loss: 1.2690 - accuracy: 0.5931\n"
          ],
          "name": "stdout"
        },
        {
          "output_type": "execute_result",
          "data": {
            "text/plain": [
              "[1.2689670324325562, 0.5931000113487244]"
            ]
          },
          "metadata": {
            "tags": []
          },
          "execution_count": 8
        }
      ]
    },
    {
      "cell_type": "code",
      "metadata": {
        "colab": {
          "base_uri": "https://localhost:8080/"
        },
        "id": "KrwWeotuCZp5",
        "outputId": "9c46efd9-b3fb-406f-9f36-f9ed35562c74"
      },
      "source": [
        "model.predict(X_test_flattened)"
      ],
      "execution_count": null,
      "outputs": [
        {
          "output_type": "execute_result",
          "data": {
            "text/plain": [
              "array([[0., 0., 0., ..., 1., 0., 0.],\n",
              "       [0., 0., 1., ..., 0., 0., 0.],\n",
              "       [0., 1., 0., ..., 0., 0., 0.],\n",
              "       ...,\n",
              "       [0., 0., 0., ..., 0., 0., 0.],\n",
              "       [0., 0., 0., ..., 0., 0., 0.],\n",
              "       [0., 0., 0., ..., 0., 0., 0.]], dtype=float32)"
            ]
          },
          "metadata": {
            "tags": []
          },
          "execution_count": 9
        }
      ]
    },
    {
      "cell_type": "code",
      "metadata": {
        "colab": {
          "base_uri": "https://localhost:8080/",
          "height": 292
        },
        "id": "nIbOfGOCCfyV",
        "outputId": "e0dec9b9-d052-483f-de94-137c49ea1f06"
      },
      "source": [
        "plt.matshow(X_test[0])"
      ],
      "execution_count": null,
      "outputs": [
        {
          "output_type": "execute_result",
          "data": {
            "text/plain": [
              "<matplotlib.image.AxesImage at 0x7f2a8a8a72e8>"
            ]
          },
          "metadata": {
            "tags": []
          },
          "execution_count": 11
        },
        {
          "output_type": "display_data",
          "data": {
            "image/png": "[encoded data removed]",
            "text/plain": [
              "<Figure size 288x288 with 1 Axes>"
            ]
          },
          "metadata": {
            "tags": [],
            "needs_background": "light"
          }
        }
      ]
    },
    {
      "cell_type": "code",
      "metadata": {
        "id": "7M1x6JVrCmRa"
      },
      "source": [
        "y_pred= model.predict(X_test_flattened)"
      ],
      "execution_count": null,
      "outputs": []
    },
    {
      "cell_type": "code",
      "metadata": {
        "colab": {
          "base_uri": "https://localhost:8080/"
        },
        "id": "ZtFZcuWECx7H",
        "outputId": "3fe93a96-be88-4ef4-ed31-4a01efcf9e46"
      },
      "source": [
        "y_pred[0]"
      ],
      "execution_count": null,
      "outputs": [
        {
          "output_type": "execute_result",
          "data": {
            "text/plain": [
              "array([0., 0., 0., 0., 0., 0., 0., 1., 0., 0.], dtype=float32)"
            ]
          },
          "metadata": {
            "tags": []
          },
          "execution_count": 13
        }
      ]
    },
    {
      "cell_type": "code",
      "metadata": {
        "colab": {
          "base_uri": "https://localhost:8080/"
        },
        "id": "bO4_f8T_CzLI",
        "outputId": "1f8c64ef-1698-4e8c-b6ca-c91897409a2f"
      },
      "source": [
        "np.argmax(y_pred[0])"
      ],
      "execution_count": null,
      "outputs": [
        {
          "output_type": "execute_result",
          "data": {
            "text/plain": [
              "7"
            ]
          },
          "metadata": {
            "tags": []
          },
          "execution_count": 14
        }
      ]
    },
    {
      "cell_type": "code",
      "metadata": {
        "colab": {
          "base_uri": "https://localhost:8080/"
        },
        "id": "7-nUw04XC5Ja",
        "outputId": "ecba8f2d-0827-4ef3-f5f7-c66e1ba7bdaf"
      },
      "source": [
        "y_pred_labels= [np.argmax(i) for i in y_pred]\n",
        "y_pred_labels[:5]"
      ],
      "execution_count": null,
      "outputs": [
        {
          "output_type": "execute_result",
          "data": {
            "text/plain": [
              "[7, 2, 1, 0, 4]"
            ]
          },
          "metadata": {
            "tags": []
          },
          "execution_count": 15
        }
      ]
    },
    {
      "cell_type": "code",
      "metadata": {
        "colab": {
          "base_uri": "https://localhost:8080/"
        },
        "id": "PcJtprLSDxGg",
        "outputId": "a1f5b994-f6a2-4376-c0c4-f397f9d0e47a"
      },
      "source": [
        "cm = tf.math.confusion_matrix(labels= y_test, predictions= y_pred_labels)\n",
        "cm"
      ],
      "execution_count": null,
      "outputs": [
        {
          "output_type": "execute_result",
          "data": {
            "text/plain": [
              "<tf.Tensor: shape=(10, 10), dtype=int32, numpy=\n",
              "array([[ 977,    0,    0,    2,    0,    0,    0,    1,    0,    0],\n",
              "       [  54, 1074,    3,    3,    0,    0,    0,    1,    0,    0],\n",
              "       [ 141,    1,  875,    6,    2,    0,    0,    7,    0,    0],\n",
              "       [ 180,    0,   68,  750,    0,    0,    0,    8,    0,    4],\n",
              "       [ 205,    0,    4,    5,  758,    0,    0,    3,    0,    7],\n",
              "       [ 811,    3,    4,   43,    8,    2,    0,   19,    0,    2],\n",
              "       [ 933,    3,   14,    1,    7,    0,    0,    0,    0,    0],\n",
              "       [  92,    7,   17,    9,    2,    0,    0,  893,    0,    8],\n",
              "       [ 934,    5,    4,   15,    7,    0,    0,    9,    0,    0],\n",
              "       [ 340,    3,    1,    3,   14,    0,    0,   46,    0,  602]],\n",
              "      dtype=int32)>"
            ]
          },
          "metadata": {
            "tags": []
          },
          "execution_count": 17
        }
      ]
    },
    {
      "cell_type": "code",
      "metadata": {
        "id": "aePxvbMUD9Ex"
      },
      "source": [
        ""
      ],
      "execution_count": null,
      "outputs": []
    }
  ]
}